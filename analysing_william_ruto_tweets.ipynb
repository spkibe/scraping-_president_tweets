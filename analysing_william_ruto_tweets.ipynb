{
 "cells": [
  {
   "cell_type": "code",
   "execution_count": 1,
   "metadata": {},
   "outputs": [],
   "source": [
    "import pandas as pd"
   ]
  },
  {
   "cell_type": "code",
   "execution_count": 2,
   "metadata": {},
   "outputs": [],
   "source": [
    "df = pd.read_csv(\"william_ruto_tweets.csv\")"
   ]
  },
  {
   "cell_type": "code",
   "execution_count": 5,
   "metadata": {},
   "outputs": [
    {
     "data": {
      "text/html": [
       "<div>\n",
       "<style scoped>\n",
       "    .dataframe tbody tr th:only-of-type {\n",
       "        vertical-align: middle;\n",
       "    }\n",
       "\n",
       "    .dataframe tbody tr th {\n",
       "        vertical-align: top;\n",
       "    }\n",
       "\n",
       "    .dataframe thead th {\n",
       "        text-align: right;\n",
       "    }\n",
       "</style>\n",
       "<table border=\"1\" class=\"dataframe\">\n",
       "  <thead>\n",
       "    <tr style=\"text-align: right;\">\n",
       "      <th></th>\n",
       "      <th>Unnamed: 0</th>\n",
       "      <th>user</th>\n",
       "      <th>text</th>\n",
       "      <th>favorite_count</th>\n",
       "      <th>retweet_count</th>\n",
       "      <th>create_at</th>\n",
       "    </tr>\n",
       "  </thead>\n",
       "  <tbody>\n",
       "    <tr>\n",
       "      <th>0</th>\n",
       "      <td>0</td>\n",
       "      <td>WilliamsRuto</td>\n",
       "      <td>In Embakasi, Nairobi County, for the 49th Gene...</td>\n",
       "      <td>97</td>\n",
       "      <td>6</td>\n",
       "      <td>2023-01-12 11:47:46+00:00</td>\n",
       "    </tr>\n",
       "    <tr>\n",
       "      <th>1</th>\n",
       "      <td>1</td>\n",
       "      <td>WilliamsRuto</td>\n",
       "      <td>A sense of safety and security is the foundati...</td>\n",
       "      <td>115</td>\n",
       "      <td>9</td>\n",
       "      <td>2023-01-12 11:47:45+00:00</td>\n",
       "    </tr>\n",
       "    <tr>\n",
       "      <th>2</th>\n",
       "      <td>2</td>\n",
       "      <td>WilliamsRuto</td>\n",
       "      <td>We must rise to the challenge of securing the ...</td>\n",
       "      <td>370</td>\n",
       "      <td>50</td>\n",
       "      <td>2023-01-12 11:47:45+00:00</td>\n",
       "    </tr>\n",
       "    <tr>\n",
       "      <th>3</th>\n",
       "      <td>3</td>\n",
       "      <td>WilliamsRuto</td>\n",
       "      <td>General Service Unit Passing out Parade, Embak...</td>\n",
       "      <td>979</td>\n",
       "      <td>117</td>\n",
       "      <td>2023-01-12 10:06:58+00:00</td>\n",
       "    </tr>\n",
       "    <tr>\n",
       "      <th>4</th>\n",
       "      <td>4</td>\n",
       "      <td>WilliamsRuto</td>\n",
       "      <td>General Service Unit Passing out Parade, Embak...</td>\n",
       "      <td>233</td>\n",
       "      <td>40</td>\n",
       "      <td>2023-01-12 07:58:07+00:00</td>\n",
       "    </tr>\n",
       "    <tr>\n",
       "      <th>5</th>\n",
       "      <td>5</td>\n",
       "      <td>WilliamsRuto</td>\n",
       "      <td>General Service Unit Passing out Parade, Embak...</td>\n",
       "      <td>233</td>\n",
       "      <td>37</td>\n",
       "      <td>2023-01-12 07:49:56+00:00</td>\n",
       "    </tr>\n",
       "    <tr>\n",
       "      <th>6</th>\n",
       "      <td>6</td>\n",
       "      <td>WilliamsRuto</td>\n",
       "      <td>General Service Unit Passing out Parade, Embak...</td>\n",
       "      <td>248</td>\n",
       "      <td>34</td>\n",
       "      <td>2023-01-12 07:24:25+00:00</td>\n",
       "    </tr>\n",
       "    <tr>\n",
       "      <th>7</th>\n",
       "      <td>7</td>\n",
       "      <td>WilliamsRuto</td>\n",
       "      <td>General Service Unit Passing out Parade, Embak...</td>\n",
       "      <td>551</td>\n",
       "      <td>68</td>\n",
       "      <td>2023-01-12 06:55:59+00:00</td>\n",
       "    </tr>\n",
       "    <tr>\n",
       "      <th>8</th>\n",
       "      <td>8</td>\n",
       "      <td>WilliamsRuto</td>\n",
       "      <td>General Service Unit Passing out Parade, Embak...</td>\n",
       "      <td>520</td>\n",
       "      <td>84</td>\n",
       "      <td>2023-01-12 06:27:39+00:00</td>\n",
       "    </tr>\n",
       "    <tr>\n",
       "      <th>9</th>\n",
       "      <td>9</td>\n",
       "      <td>WilliamsRuto</td>\n",
       "      <td>Ongoing Administration Police Passing out Para...</td>\n",
       "      <td>2492</td>\n",
       "      <td>225</td>\n",
       "      <td>2023-01-11 09:03:09+00:00</td>\n",
       "    </tr>\n",
       "  </tbody>\n",
       "</table>\n",
       "</div>"
      ],
      "text/plain": [
       "   Unnamed: 0          user  \\\n",
       "0           0  WilliamsRuto   \n",
       "1           1  WilliamsRuto   \n",
       "2           2  WilliamsRuto   \n",
       "3           3  WilliamsRuto   \n",
       "4           4  WilliamsRuto   \n",
       "5           5  WilliamsRuto   \n",
       "6           6  WilliamsRuto   \n",
       "7           7  WilliamsRuto   \n",
       "8           8  WilliamsRuto   \n",
       "9           9  WilliamsRuto   \n",
       "\n",
       "                                                text  favorite_count  \\\n",
       "0  In Embakasi, Nairobi County, for the 49th Gene...              97   \n",
       "1  A sense of safety and security is the foundati...             115   \n",
       "2  We must rise to the challenge of securing the ...             370   \n",
       "3  General Service Unit Passing out Parade, Embak...             979   \n",
       "4  General Service Unit Passing out Parade, Embak...             233   \n",
       "5  General Service Unit Passing out Parade, Embak...             233   \n",
       "6  General Service Unit Passing out Parade, Embak...             248   \n",
       "7  General Service Unit Passing out Parade, Embak...             551   \n",
       "8  General Service Unit Passing out Parade, Embak...             520   \n",
       "9  Ongoing Administration Police Passing out Para...            2492   \n",
       "\n",
       "   retweet_count                  create_at  \n",
       "0              6  2023-01-12 11:47:46+00:00  \n",
       "1              9  2023-01-12 11:47:45+00:00  \n",
       "2             50  2023-01-12 11:47:45+00:00  \n",
       "3            117  2023-01-12 10:06:58+00:00  \n",
       "4             40  2023-01-12 07:58:07+00:00  \n",
       "5             37  2023-01-12 07:49:56+00:00  \n",
       "6             34  2023-01-12 07:24:25+00:00  \n",
       "7             68  2023-01-12 06:55:59+00:00  \n",
       "8             84  2023-01-12 06:27:39+00:00  \n",
       "9            225  2023-01-11 09:03:09+00:00  "
      ]
     },
     "execution_count": 5,
     "metadata": {},
     "output_type": "execute_result"
    }
   ],
   "source": [
    "df.head(10)"
   ]
  },
  {
   "cell_type": "code",
   "execution_count": 4,
   "metadata": {},
   "outputs": [
    {
     "data": {
      "text/html": [
       "<div>\n",
       "<style scoped>\n",
       "    .dataframe tbody tr th:only-of-type {\n",
       "        vertical-align: middle;\n",
       "    }\n",
       "\n",
       "    .dataframe tbody tr th {\n",
       "        vertical-align: top;\n",
       "    }\n",
       "\n",
       "    .dataframe thead th {\n",
       "        text-align: right;\n",
       "    }\n",
       "</style>\n",
       "<table border=\"1\" class=\"dataframe\">\n",
       "  <thead>\n",
       "    <tr style=\"text-align: right;\">\n",
       "      <th></th>\n",
       "      <th>Unnamed: 0</th>\n",
       "      <th>user</th>\n",
       "      <th>text</th>\n",
       "      <th>favorite_count</th>\n",
       "      <th>retweet_count</th>\n",
       "      <th>create_at</th>\n",
       "    </tr>\n",
       "  </thead>\n",
       "  <tbody>\n",
       "    <tr>\n",
       "      <th>195</th>\n",
       "      <td>195</td>\n",
       "      <td>WilliamsRuto</td>\n",
       "      <td>Joined Chief Justice Martha Koome, Attorney Ge...</td>\n",
       "      <td>414</td>\n",
       "      <td>49</td>\n",
       "      <td>2022-12-05 15:34:36+00:00</td>\n",
       "    </tr>\n",
       "    <tr>\n",
       "      <th>196</th>\n",
       "      <td>196</td>\n",
       "      <td>WilliamsRuto</td>\n",
       "      <td>That is why the Government is keen on supporti...</td>\n",
       "      <td>477</td>\n",
       "      <td>53</td>\n",
       "      <td>2022-12-05 15:34:34+00:00</td>\n",
       "    </tr>\n",
       "    <tr>\n",
       "      <th>197</th>\n",
       "      <td>197</td>\n",
       "      <td>WilliamsRuto</td>\n",
       "      <td>We strongly believe delays in court cases are ...</td>\n",
       "      <td>1679</td>\n",
       "      <td>179</td>\n",
       "      <td>2022-12-05 15:34:32+00:00</td>\n",
       "    </tr>\n",
       "    <tr>\n",
       "      <th>198</th>\n",
       "      <td>198</td>\n",
       "      <td>WilliamsRuto</td>\n",
       "      <td>Launch of the Administration of Justice in Ken...</td>\n",
       "      <td>823</td>\n",
       "      <td>138</td>\n",
       "      <td>2022-12-05 07:35:12+00:00</td>\n",
       "    </tr>\n",
       "    <tr>\n",
       "      <th>199</th>\n",
       "      <td>199</td>\n",
       "      <td>WilliamsRuto</td>\n",
       "      <td>With Deputy President @rigathi and other leade...</td>\n",
       "      <td>819</td>\n",
       "      <td>91</td>\n",
       "      <td>2022-12-04 11:12:07+00:00</td>\n",
       "    </tr>\n",
       "  </tbody>\n",
       "</table>\n",
       "</div>"
      ],
      "text/plain": [
       "     Unnamed: 0          user  \\\n",
       "195         195  WilliamsRuto   \n",
       "196         196  WilliamsRuto   \n",
       "197         197  WilliamsRuto   \n",
       "198         198  WilliamsRuto   \n",
       "199         199  WilliamsRuto   \n",
       "\n",
       "                                                  text  favorite_count  \\\n",
       "195  Joined Chief Justice Martha Koome, Attorney Ge...             414   \n",
       "196  That is why the Government is keen on supporti...             477   \n",
       "197  We strongly believe delays in court cases are ...            1679   \n",
       "198  Launch of the Administration of Justice in Ken...             823   \n",
       "199  With Deputy President @rigathi and other leade...             819   \n",
       "\n",
       "     retweet_count                  create_at  \n",
       "195             49  2022-12-05 15:34:36+00:00  \n",
       "196             53  2022-12-05 15:34:34+00:00  \n",
       "197            179  2022-12-05 15:34:32+00:00  \n",
       "198            138  2022-12-05 07:35:12+00:00  \n",
       "199             91  2022-12-04 11:12:07+00:00  "
      ]
     },
     "execution_count": 4,
     "metadata": {},
     "output_type": "execute_result"
    }
   ],
   "source": [
    "df.tail()"
   ]
  },
  {
   "cell_type": "code",
   "execution_count": 9,
   "metadata": {},
   "outputs": [
    {
     "data": {
      "text/plain": [
       "108"
      ]
     },
     "execution_count": 9,
     "metadata": {},
     "output_type": "execute_result"
    }
   ],
   "source": [
    "df['retweet_count'].idxmax()"
   ]
  },
  {
   "cell_type": "code",
   "execution_count": 14,
   "metadata": {},
   "outputs": [
    {
     "data": {
      "text/plain": [
       "'Congratulations Argentina for winning the world Cup. My African team at world Cup played a superb game. Will pay my bet!!! All round wonderful game. Tukutane home. https://t.co/Cx9BZDZRnJ'"
      ]
     },
     "execution_count": 14,
     "metadata": {},
     "output_type": "execute_result"
    }
   ],
   "source": [
    "df['text'][df['retweet_count'].idxmax()]"
   ]
  },
  {
   "cell_type": "code",
   "execution_count": 16,
   "metadata": {},
   "outputs": [
    {
     "data": {
      "text/plain": [
       "Unnamed: 0                                                      108\n",
       "user                                                   WilliamsRuto\n",
       "text              Congratulations Argentina for winning the worl...\n",
       "favorite_count                                                53634\n",
       "retweet_count                                                  8812\n",
       "create_at                                 2022-12-18 18:31:21+00:00\n",
       "Name: 108, dtype: object"
      ]
     },
     "execution_count": 16,
     "metadata": {},
     "output_type": "execute_result"
    }
   ],
   "source": [
    "df.iloc[108]"
   ]
  },
  {
   "cell_type": "code",
   "execution_count": 18,
   "metadata": {},
   "outputs": [
    {
     "data": {
      "text/plain": [
       "'Congratulations Argentina for winning the world Cup. My African team at world Cup played a superb game. Will pay my bet!!! All round wonderful game. Tukutane home. https://t.co/Cx9BZDZRnJ'"
      ]
     },
     "execution_count": 18,
     "metadata": {},
     "output_type": "execute_result"
    }
   ],
   "source": [
    "df['text'][df['favorite_count'].idxmax()]"
   ]
  },
  {
   "cell_type": "code",
   "execution_count": 20,
   "metadata": {},
   "outputs": [
    {
     "data": {
      "text/plain": [
       "'The Agreement sets out a foundation for broad-based consultations between the signatories on important actions that will ensure a successful transition and usher in stability for the Sudan.'"
      ]
     },
     "execution_count": 20,
     "metadata": {},
     "output_type": "execute_result"
    }
   ],
   "source": [
    "df['text'][df['favorite_count'].idxmin()]"
   ]
  },
  {
   "cell_type": "code",
   "execution_count": 21,
   "metadata": {},
   "outputs": [
    {
     "data": {
      "text/plain": [
       "'In Embakasi, Nairobi County, for the 49th General Service Unit passing out parade. https://t.co/ZJ7Kirhce1'"
      ]
     },
     "execution_count": 21,
     "metadata": {},
     "output_type": "execute_result"
    }
   ],
   "source": [
    "df['text'][df['retweet_count'].idxmin()]"
   ]
  },
  {
   "cell_type": "code",
   "execution_count": null,
   "metadata": {},
   "outputs": [],
   "source": []
  }
 ],
 "metadata": {
  "kernelspec": {
   "display_name": "Python 3 (ipykernel)",
   "language": "python",
   "name": "python3"
  },
  "language_info": {
   "codemirror_mode": {
    "name": "ipython",
    "version": 3
   },
   "file_extension": ".py",
   "mimetype": "text/x-python",
   "name": "python",
   "nbconvert_exporter": "python",
   "pygments_lexer": "ipython3",
   "version": "3.7.4"
  }
 },
 "nbformat": 4,
 "nbformat_minor": 4
}
